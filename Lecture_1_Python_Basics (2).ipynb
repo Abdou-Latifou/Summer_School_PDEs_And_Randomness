{
  "cells": [
    {
      "cell_type": "markdown",
      "source": [
        "# Summary of today:\n",
        "1. Intro to CME 193\n",
        "2. Python Foundations\n",
        "* Variable\n",
        "* Operator\n",
        "* Strings\n",
        "* Control Flow\n",
        "* Exception\n",
        "* Functions\n",
        "* Collections"
      ],
      "metadata": {
        "id": "3fufqWYLlYiV"
      }
    },
    {
      "cell_type": "markdown",
      "metadata": {
        "id": "SSKIUbzqcbHv"
      },
      "source": [
        "# Python"
      ]
    },
    {
      "cell_type": "markdown",
      "metadata": {
        "id": "p9aG5dtscbHw"
      },
      "source": [
        "![xkcd_python](https://imgs.xkcd.com/comics/python.png)\n",
        "(From [xkcd](https://xkcd.com/))"
      ]
    },
    {
      "cell_type": "code",
      "execution_count": null,
      "metadata": {
        "id": "UqyHntC_cbHw",
        "colab": {
          "base_uri": "https://localhost:8080/"
        },
        "outputId": "2b360652-a35f-44d8-aa83-1f498aa2b569"
      },
      "outputs": [
        {
          "output_type": "stream",
          "name": "stdout",
          "text": [
            "Hello, world!\n"
          ]
        }
      ],
      "source": [
        "print(\"Hello, world!\")"
      ]
    },
    {
      "cell_type": "code",
      "source": [
        "# print value of pi  (I am a comment using hash mark)\n",
        "# The pi (π) is a constant of the math library in Python that returns the value 3.14...\n",
        "import math\n",
        "\n",
        "print(math.pi)"
      ],
      "metadata": {
        "id": "3Yeai9_k8qbD",
        "colab": {
          "base_uri": "https://localhost:8080/"
        },
        "outputId": "d34fc05b-02fe-4578-9daf-b9d848f62c0b"
      },
      "execution_count": null,
      "outputs": [
        {
          "output_type": "stream",
          "name": "stdout",
          "text": [
            "3.141592653589793\n"
          ]
        }
      ]
    },
    {
      "cell_type": "markdown",
      "source": [
        "# Basic Section (Start)"
      ],
      "metadata": {
        "id": "w6Oof-gM7WHO"
      }
    },
    {
      "cell_type": "markdown",
      "metadata": {
        "id": "BdGrklkzcbHx"
      },
      "source": [
        "## Variables\n",
        "\n",
        "One of the main differences in Python compared to other languages you might be familiar with is that type of a variable is not declared and is determined only during runtime. The varibale is strongly typed, meaning that it do have a type and that the type matters when performing operations on the variable. Python also achieves implicit type conversion of integer (`int`) to floating-point numbers (`float`)."
      ]
    },
    {
      "cell_type": "code",
      "execution_count": null,
      "metadata": {
        "id": "FMBoJLc-cbHy",
        "colab": {
          "base_uri": "https://localhost:8080/"
        },
        "outputId": "54853863-e47b-45e6-bdab-787ea0a3c2b2"
      },
      "outputs": [
        {
          "output_type": "stream",
          "name": "stdout",
          "text": [
            "1\n"
          ]
        }
      ],
      "source": [
        "x = 1\n",
        "print(x)"
      ]
    },
    {
      "cell_type": "code",
      "source": [
        "x"
      ],
      "metadata": {
        "id": "zkMB_60ZU_m-",
        "colab": {
          "base_uri": "https://localhost:8080/"
        },
        "outputId": "caf9a3e4-7697-4e3f-d52b-e1e51927f6cf"
      },
      "execution_count": null,
      "outputs": [
        {
          "output_type": "execute_result",
          "data": {
            "text/plain": [
              "1"
            ]
          },
          "metadata": {},
          "execution_count": 4
        }
      ]
    },
    {
      "cell_type": "code",
      "source": [
        "x = 1 # integer\n",
        "print(type(x))"
      ],
      "metadata": {
        "id": "EhmHS2f-n0UX",
        "colab": {
          "base_uri": "https://localhost:8080/"
        },
        "outputId": "3664a1a1-1097-4fd0-c49c-9efbc5b15c62"
      },
      "execution_count": null,
      "outputs": [
        {
          "output_type": "stream",
          "name": "stdout",
          "text": [
            "<class 'int'>\n"
          ]
        }
      ]
    },
    {
      "cell_type": "code",
      "execution_count": null,
      "metadata": {
        "id": "y5N9BPNdcbHz",
        "colab": {
          "base_uri": "https://localhost:8080/"
        },
        "outputId": "fa3310ca-e36d-4133-f52a-606cab1253d8"
      },
      "outputs": [
        {
          "output_type": "stream",
          "name": "stdout",
          "text": [
            "1.0\n",
            "<class 'float'>\n",
            "string\n",
            "<class 'str'>\n"
          ]
        }
      ],
      "source": [
        "x = 1.0 # floating-point numbers\n",
        "print(x)\n",
        "print(type(x))\n",
        "\n",
        "x = \"string\"  # same as \"string\"\n",
        "print(x)\n",
        "print(type(x))"
      ]
    },
    {
      "cell_type": "code",
      "source": [
        "1.0 == \"1.0\" # float and str are not equal"
      ],
      "metadata": {
        "id": "N46OLDQc2SkW",
        "colab": {
          "base_uri": "https://localhost:8080/"
        },
        "outputId": "ab5e2bd3-4755-4b3f-b981-3bcf46653bda"
      },
      "execution_count": null,
      "outputs": [
        {
          "output_type": "execute_result",
          "data": {
            "text/plain": [
              "False"
            ]
          },
          "metadata": {},
          "execution_count": 7
        }
      ]
    },
    {
      "cell_type": "code",
      "source": [
        "1.0 == 1 # implicit type conversion"
      ],
      "metadata": {
        "id": "Wkhw6PnqU34F",
        "colab": {
          "base_uri": "https://localhost:8080/"
        },
        "outputId": "0d54cd64-9e57-4bed-a6c4-2e658e97764d"
      },
      "execution_count": null,
      "outputs": [
        {
          "output_type": "execute_result",
          "data": {
            "text/plain": [
              "True"
            ]
          },
          "metadata": {},
          "execution_count": 8
        }
      ]
    },
    {
      "cell_type": "code",
      "source": [
        "int(1.0)"
      ],
      "metadata": {
        "colab": {
          "base_uri": "https://localhost:8080/"
        },
        "id": "Wc6vev4p0XmK",
        "outputId": "766b4167-d4e6-4eac-f423-d0042e2ea0d5"
      },
      "execution_count": null,
      "outputs": [
        {
          "output_type": "execute_result",
          "data": {
            "text/plain": [
              "1"
            ]
          },
          "metadata": {},
          "execution_count": 9
        }
      ]
    },
    {
      "cell_type": "code",
      "source": [
        "1.0 == int(1.0) # explicit type conversion"
      ],
      "metadata": {
        "id": "YF6wBwcC2W6N",
        "colab": {
          "base_uri": "https://localhost:8080/"
        },
        "outputId": "06d928e4-eb50-470d-a416-95763f27d075"
      },
      "execution_count": null,
      "outputs": [
        {
          "output_type": "execute_result",
          "data": {
            "text/plain": [
              "True"
            ]
          },
          "metadata": {},
          "execution_count": 11
        }
      ]
    },
    {
      "cell_type": "code",
      "source": [
        "print(x)\n",
        "x + 1"
      ],
      "metadata": {
        "id": "7HVL44a50bfC",
        "colab": {
          "base_uri": "https://localhost:8080/",
          "height": 176
        },
        "outputId": "c7f4a0dd-bd22-4bde-c1e4-30082254d2ec"
      },
      "execution_count": null,
      "outputs": [
        {
          "output_type": "stream",
          "name": "stdout",
          "text": [
            "string\n"
          ]
        },
        {
          "output_type": "error",
          "ename": "TypeError",
          "evalue": "can only concatenate str (not \"int\") to str",
          "traceback": [
            "\u001b[0;31m---------------------------------------------------------------------------\u001b[0m",
            "\u001b[0;31mTypeError\u001b[0m                                 Traceback (most recent call last)",
            "\u001b[0;32m<ipython-input-12-93bce34bf763>\u001b[0m in \u001b[0;36m<cell line: 0>\u001b[0;34m()\u001b[0m\n\u001b[1;32m      1\u001b[0m \u001b[0mprint\u001b[0m\u001b[0;34m(\u001b[0m\u001b[0mx\u001b[0m\u001b[0;34m)\u001b[0m\u001b[0;34m\u001b[0m\u001b[0;34m\u001b[0m\u001b[0m\n\u001b[0;32m----> 2\u001b[0;31m \u001b[0mx\u001b[0m \u001b[0;34m+\u001b[0m \u001b[0;36m1\u001b[0m\u001b[0;34m\u001b[0m\u001b[0;34m\u001b[0m\u001b[0m\n\u001b[0m",
            "\u001b[0;31mTypeError\u001b[0m: can only concatenate str (not \"int\") to str"
          ]
        }
      ]
    },
    {
      "cell_type": "code",
      "source": [
        "from IPython.display import display\n",
        "display(x)"
      ],
      "metadata": {
        "id": "2fr1Cs8kwRuN",
        "colab": {
          "base_uri": "https://localhost:8080/",
          "height": 36
        },
        "outputId": "da78d2c2-b504-42eb-ac47-7a88ff8f0694"
      },
      "execution_count": null,
      "outputs": [
        {
          "output_type": "display_data",
          "data": {
            "text/plain": [
              "'string'"
            ],
            "application/vnd.google.colaboratory.intrinsic+json": {
              "type": "string"
            }
          },
          "metadata": {}
        }
      ]
    },
    {
      "cell_type": "markdown",
      "metadata": {
        "id": "nkYosle9cbH1"
      },
      "source": [
        "## Basic Arithmetic\n",
        "\n",
        "Math Operators:\n",
        "`+ - * / // % **`\n",
        "\n",
        "Boolean expressions:\n",
        "* keywords: `True` and `False` (note capitalization)\n",
        "- False = 0, True = 1\n",
        "    - C1 and C2 = min (C1, C2)\n",
        "    - C1 or C2 = max(C1, C2)\n",
        "* `==` equals: `5 == 5` yields `True`\n",
        "* `!=` does not equal: `5 != 5` yields `False`\n",
        "* `>` greater than: `5 > 4` yields `True`\n",
        "* `>=` greater than or equal: `5 >= 5` yields `True`\n",
        "* Similarly, we have `<` and `<=`.\n",
        "\n",
        "Logical operators:\n",
        "* `and`, `or`, and `not`\n",
        "* `True and False`\n",
        "* `True or False`\n",
        "* `not True`"
      ]
    },
    {
      "cell_type": "code",
      "source": [
        "# Dividing 0 is an error\n",
        "4 / 0"
      ],
      "metadata": {
        "id": "nUWU03T6o82j",
        "colab": {
          "base_uri": "https://localhost:8080/",
          "height": 158
        },
        "outputId": "3cbf4204-c6b1-4037-e272-afd7e7ad2b22"
      },
      "execution_count": null,
      "outputs": [
        {
          "output_type": "error",
          "ename": "ZeroDivisionError",
          "evalue": "division by zero",
          "traceback": [
            "\u001b[0;31m---------------------------------------------------------------------------\u001b[0m",
            "\u001b[0;31mZeroDivisionError\u001b[0m                         Traceback (most recent call last)",
            "\u001b[0;32m<ipython-input-14-7c75524039d7>\u001b[0m in \u001b[0;36m<cell line: 0>\u001b[0;34m()\u001b[0m\n\u001b[1;32m      1\u001b[0m \u001b[0;31m# Dividing 0 is an error\u001b[0m\u001b[0;34m\u001b[0m\u001b[0;34m\u001b[0m\u001b[0m\n\u001b[0;32m----> 2\u001b[0;31m \u001b[0;36m4\u001b[0m \u001b[0;34m/\u001b[0m \u001b[0;36m0\u001b[0m\u001b[0;34m\u001b[0m\u001b[0;34m\u001b[0m\u001b[0m\n\u001b[0m",
            "\u001b[0;31mZeroDivisionError\u001b[0m: division by zero"
          ]
        }
      ]
    },
    {
      "cell_type": "code",
      "execution_count": null,
      "metadata": {
        "id": "AGVUfzrccbH3",
        "colab": {
          "base_uri": "https://localhost:8080/"
        },
        "outputId": "eb6e3239-5da5-4fbf-b168-ecd7ecb75438"
      },
      "outputs": [
        {
          "output_type": "execute_result",
          "data": {
            "text/plain": [
              "float"
            ]
          },
          "metadata": {},
          "execution_count": 15
        }
      ],
      "source": [
        "# The result of regular division is always a float\n",
        "type(4 / 2)"
      ]
    },
    {
      "cell_type": "code",
      "source": [
        "5 / 3"
      ],
      "metadata": {
        "id": "JDJ--i0bT4gP",
        "colab": {
          "base_uri": "https://localhost:8080/"
        },
        "outputId": "49466be1-75a2-44fd-84a3-18af5a07a347"
      },
      "execution_count": null,
      "outputs": [
        {
          "output_type": "execute_result",
          "data": {
            "text/plain": [
              "1.6666666666666667"
            ]
          },
          "metadata": {},
          "execution_count": 17
        }
      ]
    },
    {
      "cell_type": "code",
      "execution_count": null,
      "metadata": {
        "id": "S5NLeVRDcbH3",
        "colab": {
          "base_uri": "https://localhost:8080/"
        },
        "outputId": "d44a72f9-1a8f-488c-8016-695592dd2821"
      },
      "outputs": [
        {
          "output_type": "execute_result",
          "data": {
            "text/plain": [
              "int"
            ]
          },
          "metadata": {},
          "execution_count": 20
        }
      ],
      "source": [
        "type(5 // 3)  # Floor division"
      ]
    },
    {
      "cell_type": "code",
      "source": [
        "5 // 3 # Floor division of positive numbers"
      ],
      "metadata": {
        "id": "aWBUjy_eUEUx",
        "colab": {
          "base_uri": "https://localhost:8080/"
        },
        "outputId": "eb0c7b13-dd9b-4c43-a4fc-32a96e84936e"
      },
      "execution_count": null,
      "outputs": [
        {
          "output_type": "execute_result",
          "data": {
            "text/plain": [
              "1"
            ]
          },
          "metadata": {},
          "execution_count": 19
        }
      ]
    },
    {
      "cell_type": "markdown",
      "source": [],
      "metadata": {
        "id": "5xICnU2d4MuM"
      }
    },
    {
      "cell_type": "code",
      "source": [
        "-5 / 3# Floor division of negative numbers"
      ],
      "metadata": {
        "id": "ZaPM47NI3EA0",
        "colab": {
          "base_uri": "https://localhost:8080/"
        },
        "outputId": "74133bc0-49da-4b86-84cc-dceb7bb47af1"
      },
      "execution_count": null,
      "outputs": [
        {
          "output_type": "execute_result",
          "data": {
            "text/plain": [
              "-1.6666666666666667"
            ]
          },
          "metadata": {},
          "execution_count": 21
        }
      ]
    },
    {
      "cell_type": "code",
      "source": [
        "-5 // 3 # rounds down towards negative infinity"
      ],
      "metadata": {
        "id": "KNEs342XVz_U",
        "colab": {
          "base_uri": "https://localhost:8080/"
        },
        "outputId": "ba76c0b4-a67c-4eeb-d654-c1386e28519e"
      },
      "execution_count": null,
      "outputs": [
        {
          "output_type": "execute_result",
          "data": {
            "text/plain": [
              "-2"
            ]
          },
          "metadata": {},
          "execution_count": 22
        }
      ]
    },
    {
      "cell_type": "code",
      "source": [
        "5 % 3  # Modulus of positive numbers"
      ],
      "metadata": {
        "id": "p1wPNFY53i1E",
        "colab": {
          "base_uri": "https://localhost:8080/"
        },
        "outputId": "abf7cb30-d993-4102-f1a9-2c7127f80559"
      },
      "execution_count": null,
      "outputs": [
        {
          "output_type": "execute_result",
          "data": {
            "text/plain": [
              "2"
            ]
          },
          "metadata": {},
          "execution_count": 23
        }
      ]
    },
    {
      "cell_type": "code",
      "execution_count": null,
      "metadata": {
        "id": "gQXUdO4CcbH4",
        "colab": {
          "base_uri": "https://localhost:8080/"
        },
        "outputId": "ab6659c7-ab44-4b10-a22b-60a0a7c31c88"
      },
      "outputs": [
        {
          "output_type": "execute_result",
          "data": {
            "text/plain": [
              "1"
            ]
          },
          "metadata": {},
          "execution_count": 24
        }
      ],
      "source": [
        "-5 % 3  # Modulus of negative numbers"
      ]
    },
    {
      "cell_type": "code",
      "execution_count": null,
      "metadata": {
        "id": "D0XEe3XecbH4",
        "colab": {
          "base_uri": "https://localhost:8080/"
        },
        "outputId": "b360235c-7fa7-4cec-8f72-4b1708bf5ff8"
      },
      "outputs": [
        {
          "output_type": "execute_result",
          "data": {
            "text/plain": [
              "64"
            ]
          },
          "metadata": {},
          "execution_count": 25
        }
      ],
      "source": [
        "4**3  # Exponentiation"
      ]
    },
    {
      "cell_type": "code",
      "source": [
        "# = to assign value to a varibale\n",
        "# == to check if the values match\n",
        "x = 5.0\n",
        "y = 5\n",
        "\n",
        "x == y"
      ],
      "metadata": {
        "id": "agl9SgW80Lo3",
        "colab": {
          "base_uri": "https://localhost:8080/"
        },
        "outputId": "b1ccf266-ecc7-4d60-d1e5-16e66891e127"
      },
      "execution_count": null,
      "outputs": [
        {
          "output_type": "execute_result",
          "data": {
            "text/plain": [
              "True"
            ]
          },
          "metadata": {},
          "execution_count": 26
        }
      ]
    },
    {
      "cell_type": "code",
      "source": [
        "print(type(x), type(y))"
      ],
      "metadata": {
        "id": "J10_TdDUons4",
        "colab": {
          "base_uri": "https://localhost:8080/"
        },
        "outputId": "0dfea71e-58fa-44b0-ac35-2faa0922df20"
      },
      "execution_count": null,
      "outputs": [
        {
          "output_type": "stream",
          "name": "stdout",
          "text": [
            "<class 'float'> <class 'int'>\n"
          ]
        }
      ]
    },
    {
      "cell_type": "code",
      "source": [
        "x = 5.0\n",
        "y = 5\n",
        "z = x\n",
        "print(\"x == y: \" + str(x == y))\n",
        "print(\"x is y: \" + str(x is y))\n",
        "print(\"x is z: \" + str(x is z))\n",
        "\n",
        "\n",
        "# == checks for equality - if the two variables point at values are equal.\n",
        "# is checks for identity - if the two variables point to the exact same object."
      ],
      "metadata": {
        "id": "Wgqp32w8z-ks",
        "colab": {
          "base_uri": "https://localhost:8080/"
        },
        "outputId": "3134b981-abc9-49ec-9c9b-f5f1dbae098e"
      },
      "execution_count": null,
      "outputs": [
        {
          "output_type": "stream",
          "name": "stdout",
          "text": [
            "x == y: True\n",
            "x is y: False\n",
            "x is z: True\n"
          ]
        }
      ]
    },
    {
      "cell_type": "code",
      "source": [
        "x = 5\n",
        "y = 5\n",
        "x is y"
      ],
      "metadata": {
        "colab": {
          "base_uri": "https://localhost:8080/"
        },
        "id": "ZS036T0x1y7E",
        "outputId": "3e09c175-0340-43e4-df0d-950f046ed96a"
      },
      "execution_count": null,
      "outputs": [
        {
          "output_type": "execute_result",
          "data": {
            "text/plain": [
              "True"
            ]
          },
          "metadata": {},
          "execution_count": 29
        }
      ]
    },
    {
      "cell_type": "code",
      "source": [
        "s = [\"example\"]\n",
        "answer = [\"example\"]\n",
        "a = s\n",
        "print(\"s == 'example': \" + str(s == answer))\n",
        "print(\"s is 'example': \" + str(s is a))  # TODO: Check @pointer\n",
        "\n",
        "# Python string interning -> Since string are immutable\n",
        "# it makes sense for the interpreter to store the string literal only once and point all the variables to the same object"
      ],
      "metadata": {
        "id": "5OmbXD0a0lL5",
        "colab": {
          "base_uri": "https://localhost:8080/"
        },
        "outputId": "d422a454-0618-4b5a-e8e2-dea161dc1b67"
      },
      "execution_count": null,
      "outputs": [
        {
          "output_type": "stream",
          "name": "stdout",
          "text": [
            "s == 'example': True\n",
            "s is 'example': True\n"
          ]
        }
      ]
    },
    {
      "cell_type": "code",
      "execution_count": null,
      "metadata": {
        "id": "bA-zIPGZcbH2",
        "colab": {
          "base_uri": "https://localhost:8080/"
        },
        "outputId": "9f1437ef-6480-4861-b914-107f145ae505"
      },
      "outputs": [
        {
          "output_type": "execute_result",
          "data": {
            "text/plain": [
              "True"
            ]
          },
          "metadata": {},
          "execution_count": 31
        }
      ],
      "source": [
        "True or False  # some other language use '&' for 'and', '|' for 'or', '!' for 'not': NOT IN PYTHON"
      ]
    },
    {
      "cell_type": "code",
      "source": [
        "not True"
      ],
      "metadata": {
        "id": "zYhfQ3_RuZXM",
        "colab": {
          "base_uri": "https://localhost:8080/"
        },
        "outputId": "f2d85795-cf1e-4d67-a0a4-23d2c6a4c423"
      },
      "execution_count": null,
      "outputs": [
        {
          "output_type": "execute_result",
          "data": {
            "text/plain": [
              "False"
            ]
          },
          "metadata": {},
          "execution_count": 32
        }
      ]
    },
    {
      "cell_type": "code",
      "source": [
        "not (9 == 9)"
      ],
      "metadata": {
        "id": "YoeaUDn0XmJB",
        "colab": {
          "base_uri": "https://localhost:8080/"
        },
        "outputId": "3aeb7e2a-93f1-489c-a44c-80d00b3db385"
      },
      "execution_count": null,
      "outputs": [
        {
          "output_type": "execute_result",
          "data": {
            "text/plain": [
              "False"
            ]
          },
          "metadata": {},
          "execution_count": 33
        }
      ]
    },
    {
      "cell_type": "code",
      "source": [
        "not 5 == 5.0  # equivalent to 5 != 5.0"
      ],
      "metadata": {
        "id": "_NiNaDTa0Gjo",
        "colab": {
          "base_uri": "https://localhost:8080/"
        },
        "outputId": "b635e607-ce0f-4a2d-fda5-e54a36d61030"
      },
      "execution_count": null,
      "outputs": [
        {
          "output_type": "execute_result",
          "data": {
            "text/plain": [
              "False"
            ]
          },
          "metadata": {},
          "execution_count": 34
        }
      ]
    },
    {
      "cell_type": "code",
      "source": [
        "5 != 5.0"
      ],
      "metadata": {
        "id": "PZIr4pTaXrS5",
        "colab": {
          "base_uri": "https://localhost:8080/"
        },
        "outputId": "1c238490-cc35-499c-9a17-594b009dd229"
      },
      "execution_count": null,
      "outputs": [
        {
          "output_type": "execute_result",
          "data": {
            "text/plain": [
              "False"
            ]
          },
          "metadata": {},
          "execution_count": 35
        }
      ]
    },
    {
      "cell_type": "markdown",
      "metadata": {
        "id": "5NpmPWnlcbH5"
      },
      "source": [
        "## Strings\n",
        "\n",
        "Concatenation: `str1 + str2`\n",
        "\n",
        "Printing: `print(str1)`"
      ]
    },
    {
      "cell_type": "code",
      "source": [
        "1 + 1"
      ],
      "metadata": {
        "id": "kbIgEqkLmM-R",
        "colab": {
          "base_uri": "https://localhost:8080/"
        },
        "outputId": "e348e0c2-e312-4bc3-f9c5-7e991f09a795"
      },
      "execution_count": null,
      "outputs": [
        {
          "output_type": "execute_result",
          "data": {
            "text/plain": [
              "2"
            ]
          },
          "metadata": {},
          "execution_count": 36
        }
      ]
    },
    {
      "cell_type": "code",
      "execution_count": null,
      "metadata": {
        "id": "eKSQF5MNcbH5",
        "colab": {
          "base_uri": "https://localhost:8080/"
        },
        "outputId": "a85cb7cb-b7de-446e-d292-dc04eec954d2"
      },
      "outputs": [
        {
          "output_type": "execute_result",
          "data": {
            "text/plain": [
              "(\"Alice's numbers are 20 and 52, \", 'and their sum is 72')"
            ]
          },
          "metadata": {},
          "execution_count": 37
        }
      ],
      "source": [
        "str1 = \"Alice's numbers are 20 and 52, \"\n",
        "str2 = \"and their sum is 72\"\n",
        "str3 = str1 + str2\n",
        "# str3\n",
        "str1, str2"
      ]
    },
    {
      "cell_type": "code",
      "source": [
        "str3"
      ],
      "metadata": {
        "id": "0DTC2v72V3Z6",
        "colab": {
          "base_uri": "https://localhost:8080/",
          "height": 36
        },
        "outputId": "5596439d-8722-44ea-dc34-b39df37208a5"
      },
      "execution_count": null,
      "outputs": [
        {
          "output_type": "execute_result",
          "data": {
            "text/plain": [
              "\"Alice's numbers are 20 and 52, and their sum is 72\""
            ],
            "application/vnd.google.colaboratory.intrinsic+json": {
              "type": "string"
            }
          },
          "metadata": {},
          "execution_count": 38
        }
      ]
    },
    {
      "cell_type": "markdown",
      "metadata": {
        "id": "InSoz24QcbH5"
      },
      "source": [
        "String Formatting:"
      ]
    },
    {
      "cell_type": "code",
      "execution_count": null,
      "metadata": {
        "id": "84Llsw9RcbH6",
        "colab": {
          "base_uri": "https://localhost:8080/"
        },
        "outputId": "65210a54-8497-4b0e-e693-41177c00f79a"
      },
      "outputs": [
        {
          "output_type": "execute_result",
          "data": {
            "text/plain": [
              "(\"Abi's friend's numbers are 4000 and 52, \",\n",
              " 'and their sum is 4052',\n",
              " \"Abi's friend's numbers are 4000 and 52, and their sum is 4052\")"
            ]
          },
          "metadata": {},
          "execution_count": 39
        }
      ],
      "source": [
        "# f-string (pyhton == ^3.6)\n",
        "\n",
        "x = 4000\n",
        "y = 52\n",
        "name = \"Abi's friend\"\n",
        "\n",
        "# f-string\n",
        "str1 = f\"{name}'s numbers are {x} and {y}, \"\n",
        "str2 = f\"and their sum is {x + y}\"\n",
        "str3 = str1 + str2\n",
        "str1, str2, str3"
      ]
    },
    {
      "cell_type": "markdown",
      "source": [
        "(Optional) Old School String Format"
      ],
      "metadata": {
        "id": "he8_hSKW2IWk"
      }
    },
    {
      "cell_type": "code",
      "execution_count": null,
      "metadata": {
        "id": "WG8MA1BAcbH6",
        "colab": {
          "base_uri": "https://localhost:8080/"
        },
        "outputId": "89bddccf-4f01-4103-bb40-84d6aeb0f902"
      },
      "outputs": [
        {
          "output_type": "stream",
          "name": "stdout",
          "text": [
            "a: string\n",
            "b: 1.0, hello, 5\n",
            "c: 3.14\n"
          ]
        }
      ],
      "source": [
        "str1 = \"a: %s\" % \"string\"\n",
        "print(str1)\n",
        "str2 = \"b: %.1f, %s, %d\" % (1.0, \"hello\", 5)\n",
        "print(str2)\n",
        "str3 = \"c: {}\".format(3.14)\n",
        "print(str3)"
      ]
    },
    {
      "cell_type": "code",
      "execution_count": null,
      "metadata": {
        "id": "o2R732-VcbH6",
        "colab": {
          "base_uri": "https://localhost:8080/"
        },
        "outputId": "a77b42fe-fab3-4996-bc52-ccffd064d86d"
      },
      "outputs": [
        {
          "output_type": "stream",
          "name": "stdout",
          "text": [
            "Hello, World!\n",
            "HELLO, WORLD!\n",
            "hello, world!\n"
          ]
        }
      ],
      "source": [
        "# some methods\n",
        "str1 = \"Hello, World!\"\n",
        "print(str1)\n",
        "print(str1.upper())\n",
        "print(str1.lower())"
      ]
    },
    {
      "cell_type": "code",
      "source": [
        "str1.replace(\"l\", \"p\")"
      ],
      "metadata": {
        "id": "LODwyCHim-u7",
        "colab": {
          "base_uri": "https://localhost:8080/",
          "height": 36
        },
        "outputId": "277cbfa1-f9b8-4c1c-d6f5-13cebbb7fe67"
      },
      "execution_count": null,
      "outputs": [
        {
          "output_type": "execute_result",
          "data": {
            "text/plain": [
              "'Heppo, Worpd!'"
            ],
            "application/vnd.google.colaboratory.intrinsic+json": {
              "type": "string"
            }
          },
          "metadata": {},
          "execution_count": 42
        }
      ]
    },
    {
      "cell_type": "code",
      "execution_count": null,
      "metadata": {
        "id": "YMhohStZcbH7",
        "colab": {
          "base_uri": "https://localhost:8080/"
        },
        "outputId": "2156763a-d388-4467-a96e-50daa206bf8b"
      },
      "outputs": [
        {
          "output_type": "stream",
          "name": "stdout",
          "text": [
            "Object `str.replace # only in colab` not found.\n"
          ]
        }
      ],
      "source": [
        "?str.replace # only in colab"
      ]
    },
    {
      "cell_type": "code",
      "source": [
        "help(str.partition)"
      ],
      "metadata": {
        "id": "_l2D_I0cZ90w",
        "colab": {
          "base_uri": "https://localhost:8080/"
        },
        "outputId": "3b6982a9-4eef-46bc-afd3-2c82a38cf513"
      },
      "execution_count": null,
      "outputs": [
        {
          "output_type": "stream",
          "name": "stdout",
          "text": [
            "Help on method_descriptor:\n",
            "\n",
            "partition(self, sep, /) unbound builtins.str method\n",
            "    Partition the string into three parts using the given separator.\n",
            "    \n",
            "    This will search for the separator in the string.  If the separator is found,\n",
            "    returns a 3-tuple containing the part before the separator, the separator\n",
            "    itself, and the part after it.\n",
            "    \n",
            "    If the separator is not found, returns a 3-tuple containing the original string\n",
            "    and two empty strings.\n",
            "\n"
          ]
        }
      ]
    },
    {
      "cell_type": "markdown",
      "metadata": {
        "id": "BuvH2ODKcbH7"
      },
      "source": [
        "## Control Flow\n",
        "\n",
        "If statements:  \n",
        "if decides whether certain statements need to be executed or not. It checks for a given condition\n",
        "```python\n",
        "if condition1:\n",
        "  statements1\n",
        "elif condition2:\n",
        "  statements2\n",
        "elif condition3:\n",
        "  statements3\n",
        "else:\n",
        "  statements4\n",
        "```"
      ]
    },
    {
      "cell_type": "code",
      "execution_count": null,
      "metadata": {
        "id": "1eYcDMetcbH8",
        "colab": {
          "base_uri": "https://localhost:8080/"
        },
        "outputId": "f6e5b600-bf5b-458d-ef23-6ad11413711e"
      },
      "outputs": [
        {
          "output_type": "stream",
          "name": "stdout",
          "text": [
            "I am here\n",
            "x is 3\n"
          ]
        }
      ],
      "source": [
        "x = 3\n",
        "y = 10\n",
        "\n",
        "if x == y:\n",
        "    print(\"The value of x is the same as value of y\")\n",
        "elif x == 3:\n",
        "    print(\"I am here\")\n",
        "    print(\"x is 3\")\n",
        "else:\n",
        "    print(\"x is something else\")"
      ]
    },
    {
      "cell_type": "markdown",
      "metadata": {
        "id": "RwNgRLrCcbH8"
      },
      "source": [
        "**For loops**  \n",
        "\n",
        "control flow statement for specifying iteration, which allows code to be executed repeatedly"
      ]
    },
    {
      "cell_type": "code",
      "execution_count": null,
      "metadata": {
        "id": "YLdLhZR1cbH8",
        "colab": {
          "base_uri": "https://localhost:8080/"
        },
        "outputId": "e5274eb0-e8ac-4b46-9d88-a482bba1407a"
      },
      "outputs": [
        {
          "output_type": "stream",
          "name": "stdout",
          "text": [
            "0, next loop\n",
            "1, next loop\n",
            "2, next loop\n",
            "3, next loop\n"
          ]
        }
      ],
      "source": [
        "for i in range(4):  # default - start at 0, increment by 1\n",
        "    print(f\"{i}, next loop\")"
      ]
    },
    {
      "cell_type": "code",
      "source": [
        "x = range(5)\n",
        "y = range(0, 10, 2)\n",
        "\n",
        "for xi, yi in zip(x, y):\n",
        "    print(f\"x: {xi}, y: {yi}\")"
      ],
      "metadata": {
        "id": "SJOxICCEbNOw",
        "colab": {
          "base_uri": "https://localhost:8080/"
        },
        "outputId": "66451382-ddab-4ba9-8956-123487ae6faa"
      },
      "execution_count": null,
      "outputs": [
        {
          "output_type": "stream",
          "name": "stdout",
          "text": [
            "x: 0, y: 0\n",
            "x: 1, y: 2\n",
            "x: 2, y: 4\n",
            "x: 3, y: 6\n",
            "x: 4, y: 8\n"
          ]
        }
      ]
    },
    {
      "cell_type": "code",
      "source": [
        "?range"
      ],
      "metadata": {
        "id": "qLhGzbGg7o09"
      },
      "execution_count": null,
      "outputs": []
    },
    {
      "cell_type": "code",
      "source": [
        "for i in range(10, 0, -2):  # inputs are start, stop, step\n",
        "    print(i)"
      ],
      "metadata": {
        "id": "MPyXYfnA9IsX",
        "colab": {
          "base_uri": "https://localhost:8080/"
        },
        "outputId": "8075ea8a-b5cc-418a-a97d-87c01a8eabfa"
      },
      "execution_count": null,
      "outputs": [
        {
          "output_type": "stream",
          "name": "stdout",
          "text": [
            "10\n",
            "8\n",
            "6\n",
            "4\n",
            "2\n"
          ]
        }
      ]
    },
    {
      "cell_type": "markdown",
      "metadata": {
        "id": "NcNxRCDtcbH8"
      },
      "source": [
        "**while loops**"
      ]
    },
    {
      "cell_type": "code",
      "execution_count": null,
      "metadata": {
        "id": "IhOWQZpKcbH9",
        "colab": {
          "base_uri": "https://localhost:8080/"
        },
        "outputId": "55044f77-21cd-471e-dadf-2daf7dc79eb5"
      },
      "outputs": [
        {
          "output_type": "stream",
          "name": "stdout",
          "text": [
            "1\n",
            "2\n",
            "3\n",
            "4\n",
            "5\n",
            "6\n",
            "7\n",
            "8\n",
            "9\n",
            "Finished\n"
          ]
        }
      ],
      "source": [
        "# Find all positive integer whose square < 100\n",
        "i = 1\n",
        "while i**2 < 100:\n",
        "    print(i)\n",
        "    i += 1  # i += 1 is the same as i = i + 1\n",
        "print(\"Finished\")"
      ]
    },
    {
      "cell_type": "markdown",
      "metadata": {
        "id": "e416dtcqcbH9"
      },
      "source": [
        "**continue** - skip the rest of the loop\n",
        "\n",
        "**break** - exit from the loop"
      ]
    },
    {
      "cell_type": "code",
      "execution_count": null,
      "metadata": {
        "id": "n0MAplWdcbH9",
        "colab": {
          "base_uri": "https://localhost:8080/"
        },
        "outputId": "04e744d6-22e7-4652-d220-bc80220211da"
      },
      "outputs": [
        {
          "output_type": "stream",
          "name": "stdout",
          "text": [
            "Found 1, an odd number\n",
            "Found 2, an even number, Continue!\n",
            "Found 2, an odd number\n",
            "Found 3, an odd number\n",
            "Found 4, an even number, Continue!\n",
            "Found 4, an odd number\n",
            "Found 5, an odd number\n",
            "Found 6, an even number, Continue!\n",
            "Found 6, an odd number\n",
            "Found 7, an odd number\n",
            "Found 8, an even number, Continue!\n",
            "Found 8, an odd number\n",
            "Found 9, an odd number\n",
            "Finished\n"
          ]
        }
      ],
      "source": [
        "# distinguish even or odd number\n",
        "for num in range(1, 10):\n",
        "    if num % 2 == 0:\n",
        "        print(f\"Found {num}, an even number, Continue!\")\n",
        "          # this jumps us back to the top\n",
        "\n",
        "    print(f\"Found {num}, an odd number\")\n",
        "\n",
        "print(\"Finished\")"
      ]
    },
    {
      "cell_type": "code",
      "execution_count": null,
      "metadata": {
        "id": "_Lie5ddEcbH-",
        "colab": {
          "base_uri": "https://localhost:8080/"
        },
        "outputId": "214983e4-64e0-4d2b-e88c-f92989d353e8"
      },
      "outputs": [
        {
          "output_type": "stream",
          "name": "stdout",
          "text": [
            "Found 1, an odd number\n",
            "Found 2, an even number, Continue!\n",
            "Found 3, an odd number\n",
            "Found 4, an even number, Continue!\n",
            "Found 5, an odd number\n",
            "Found 6, an even number, Continue!\n",
            "Found 7, an odd number\n",
            "Found 8, an even number, Continue!\n",
            "Found 9, an odd number\n",
            "Finished\n"
          ]
        }
      ],
      "source": [
        "for num in range(1, 10):\n",
        "  if num % 2 == 0:  # if n divisible by x\n",
        "    print(f\"Found {num}, an even number, Continue!\")\n",
        "    continue\n",
        "\n",
        "  print(f\"Found {num}, an odd number\")\n",
        "print(\"Finished\")"
      ]
    },
    {
      "cell_type": "code",
      "execution_count": null,
      "metadata": {
        "id": "nv7ncYB1cbH-",
        "colab": {
          "base_uri": "https://localhost:8080/"
        },
        "outputId": "7a5afd24-d2d6-4fda-ebaf-e486701339fa"
      },
      "outputs": [
        {
          "output_type": "stream",
          "name": "stdout",
          "text": [
            "Outer 0\n",
            "   Inner : 0\n",
            "   Inner : 1\n",
            "Outer 1\n",
            "   Inner : 0\n",
            "   Inner : 1\n",
            "Outer 2\n",
            "   Inner : 0\n",
            "   Inner : 1\n"
          ]
        }
      ],
      "source": [
        "# continue/break statement only continue/breaks its cloest parent level loop statement\n",
        "for i in range(3):\n",
        "    print(f\"Outer {i}\")\n",
        "    for j in range(3):\n",
        "        print(f\"   Inner : {j}\")\n",
        "        if j == 1:\n",
        "          break\n",
        "    # jump to here after break"
      ]
    },
    {
      "cell_type": "markdown",
      "metadata": {
        "id": "6jRgPK5NcbH-"
      },
      "source": [
        "**pass** does nothing"
      ]
    },
    {
      "cell_type": "code",
      "execution_count": null,
      "metadata": {
        "id": "3iSC4F8icbH-",
        "colab": {
          "base_uri": "https://localhost:8080/"
        },
        "outputId": "6d47a696-36ed-4e82-a363-8b0656f93602"
      },
      "outputs": [
        {
          "output_type": "stream",
          "name": "stdout",
          "text": [
            "Iteration: 0\n",
            "Iteration: 1\n",
            "Iteration: 2\n",
            "Iteration: 3\n",
            "Iteration: 4\n",
            "number is 5\n",
            "Iteration: 5\n",
            "Iteration: 6\n"
          ]
        }
      ],
      "source": [
        "# The pass statement is used as a placeholder for future code!!\n",
        "for num in range(7):\n",
        "    if num == 5:\n",
        "        # TODO: Add more code for the case num = 5\n",
        "        print(\"number is 5\")\n",
        "        pass\n",
        "    print(f\"Iteration: {num}\")"
      ]
    },
    {
      "cell_type": "markdown",
      "source": [
        "# Basic Section (End)"
      ],
      "metadata": {
        "id": "CBCnRvUV7d0A"
      }
    },
    {
      "cell_type": "markdown",
      "metadata": {
        "id": "AIgpCBxNcbH-"
      },
      "source": [
        "## [Exceptions](https://docs.python.org/3/library/exceptions.html)"
      ]
    },
    {
      "cell_type": "code",
      "execution_count": null,
      "metadata": {
        "scrolled": true,
        "id": "JnwzmK-fcbH_",
        "colab": {
          "base_uri": "https://localhost:8080/",
          "height": 141
        },
        "outputId": "d070a16a-75d2-4fc6-ce12-410af87d34dd"
      },
      "outputs": [
        {
          "output_type": "error",
          "ename": "ZeroDivisionError",
          "evalue": "division by zero",
          "traceback": [
            "\u001b[0;31m---------------------------------------------------------------------------\u001b[0m",
            "\u001b[0;31mZeroDivisionError\u001b[0m                         Traceback (most recent call last)",
            "\u001b[0;32m<ipython-input-65-170becd530e1>\u001b[0m in \u001b[0;36m<cell line: 0>\u001b[0;34m()\u001b[0m\n\u001b[0;32m----> 1\u001b[0;31m \u001b[0mprint\u001b[0m\u001b[0;34m(\u001b[0m\u001b[0;36m100\u001b[0m \u001b[0;34m/\u001b[0m \u001b[0;36m0\u001b[0m\u001b[0;34m)\u001b[0m\u001b[0;34m\u001b[0m\u001b[0;34m\u001b[0m\u001b[0m\n\u001b[0m",
            "\u001b[0;31mZeroDivisionError\u001b[0m: division by zero"
          ]
        }
      ],
      "source": [
        "print(100 / 0)"
      ]
    },
    {
      "cell_type": "code",
      "execution_count": null,
      "metadata": {
        "id": "hS2HnbUicbH_",
        "colab": {
          "base_uri": "https://localhost:8080/"
        },
        "outputId": "61877fb3-81bf-4267-c841-3da87ac062dd"
      },
      "outputs": [
        {
          "output_type": "stream",
          "name": "stdout",
          "text": [
            "We have an exception.\n",
            "Error is: unsupported operand type(s) for +: 'float' and 'str'\n"
          ]
        }
      ],
      "source": [
        "try:\n",
        "    # print(100 / 0)\n",
        "    # julie\n",
        "    1.0 + \"1.0\"\n",
        "except ZeroDivisionError:\n",
        "    print(\"Error: don't divided by zero\")\n",
        "except NameError:\n",
        "    print(\"Error: the variable is not defined\")\n",
        "except Exception as e_msg:\n",
        "    print(\"We have an exception.\")\n",
        "    print(f\"Error is: {e_msg}\")\n",
        "\n"
      ]
    },
    {
      "cell_type": "code",
      "source": [
        "1.0 + \"1.0\""
      ],
      "metadata": {
        "colab": {
          "base_uri": "https://localhost:8080/",
          "height": 141
        },
        "id": "0hZ6nDVq5dBh",
        "outputId": "7b272e54-f2c9-4e03-bf30-512ef4aadc4c"
      },
      "execution_count": null,
      "outputs": [
        {
          "output_type": "error",
          "ename": "TypeError",
          "evalue": "unsupported operand type(s) for +: 'float' and 'str'",
          "traceback": [
            "\u001b[0;31m---------------------------------------------------------------------------\u001b[0m",
            "\u001b[0;31mTypeError\u001b[0m                                 Traceback (most recent call last)",
            "\u001b[0;32m<ipython-input-69-cd60003b3b67>\u001b[0m in \u001b[0;36m<cell line: 0>\u001b[0;34m()\u001b[0m\n\u001b[0;32m----> 1\u001b[0;31m \u001b[0;36m1.0\u001b[0m \u001b[0;34m+\u001b[0m \u001b[0;34m\"1.0\"\u001b[0m\u001b[0;34m\u001b[0m\u001b[0;34m\u001b[0m\u001b[0m\n\u001b[0m",
            "\u001b[0;31mTypeError\u001b[0m: unsupported operand type(s) for +: 'float' and 'str'"
          ]
        }
      ]
    },
    {
      "cell_type": "markdown",
      "metadata": {
        "id": "t9SuUewucbH_"
      },
      "source": [
        "## Functions\n",
        "\n",
        "Functions are declared with the keyword `def`"
      ]
    },
    {
      "cell_type": "code",
      "execution_count": null,
      "metadata": {
        "id": "Z_e2gamgcbH_",
        "colab": {
          "base_uri": "https://localhost:8080/"
        },
        "outputId": "33650604-82ca-407c-d455-e2ffb5636629"
      },
      "outputs": [
        {
          "output_type": "execute_result",
          "data": {
            "text/plain": [
              "1.0"
            ]
          },
          "metadata": {},
          "execution_count": 70
        }
      ],
      "source": [
        "# def tells python you're trying to declare a function\n",
        "def triangle_area(base, height):\n",
        "    # here are operations\n",
        "    # part of function\n",
        "    # etc\n",
        "\n",
        "    return 0.5 * base * height\n",
        "\n",
        "\n",
        "triangle_area(1, 2)"
      ]
    },
    {
      "cell_type": "code",
      "execution_count": null,
      "metadata": {
        "id": "PGZOHcqwcbH_",
        "colab": {
          "base_uri": "https://localhost:8080/",
          "height": 297
        },
        "outputId": "fe17b655-f63f-4ffc-fe30-d74f5a46be5c"
      },
      "outputs": [
        {
          "output_type": "error",
          "ename": "ValueError",
          "evalue": "Base and height must be non-negative",
          "traceback": [
            "\u001b[0;31m---------------------------------------------------------------------------\u001b[0m",
            "\u001b[0;31mValueError\u001b[0m                                Traceback (most recent call last)",
            "\u001b[0;32m<ipython-input-71-6d2e35cd3068>\u001b[0m in \u001b[0;36m<cell line: 0>\u001b[0;34m()\u001b[0m\n\u001b[1;32m      5\u001b[0m \u001b[0;34m\u001b[0m\u001b[0m\n\u001b[1;32m      6\u001b[0m \u001b[0;34m\u001b[0m\u001b[0m\n\u001b[0;32m----> 7\u001b[0;31m \u001b[0mtriangle_area\u001b[0m\u001b[0;34m(\u001b[0m\u001b[0;34m-\u001b[0m\u001b[0;36m1\u001b[0m\u001b[0;34m,\u001b[0m \u001b[0;36m2\u001b[0m\u001b[0;34m)\u001b[0m\u001b[0;34m\u001b[0m\u001b[0;34m\u001b[0m\u001b[0m\n\u001b[0m",
            "\u001b[0;32m<ipython-input-71-6d2e35cd3068>\u001b[0m in \u001b[0;36mtriangle_area\u001b[0;34m(base, height)\u001b[0m\n\u001b[1;32m      1\u001b[0m \u001b[0;32mdef\u001b[0m \u001b[0mtriangle_area\u001b[0m\u001b[0;34m(\u001b[0m\u001b[0mbase\u001b[0m\u001b[0;34m,\u001b[0m \u001b[0mheight\u001b[0m\u001b[0;34m)\u001b[0m\u001b[0;34m:\u001b[0m\u001b[0;34m\u001b[0m\u001b[0;34m\u001b[0m\u001b[0m\n\u001b[1;32m      2\u001b[0m     \u001b[0;32mif\u001b[0m \u001b[0mbase\u001b[0m \u001b[0;34m<\u001b[0m \u001b[0;36m0\u001b[0m \u001b[0;32mor\u001b[0m \u001b[0mheight\u001b[0m \u001b[0;34m<\u001b[0m \u001b[0;36m0\u001b[0m\u001b[0;34m:\u001b[0m\u001b[0;34m\u001b[0m\u001b[0;34m\u001b[0m\u001b[0m\n\u001b[0;32m----> 3\u001b[0;31m         \u001b[0;32mraise\u001b[0m \u001b[0mValueError\u001b[0m\u001b[0;34m(\u001b[0m\u001b[0;34m\"Base and height must be non-negative\"\u001b[0m\u001b[0;34m)\u001b[0m\u001b[0;34m\u001b[0m\u001b[0;34m\u001b[0m\u001b[0m\n\u001b[0m\u001b[1;32m      4\u001b[0m     \u001b[0;32mreturn\u001b[0m \u001b[0;36m0.5\u001b[0m \u001b[0;34m*\u001b[0m \u001b[0mbase\u001b[0m \u001b[0;34m*\u001b[0m \u001b[0mheight\u001b[0m\u001b[0;34m\u001b[0m\u001b[0;34m\u001b[0m\u001b[0m\n\u001b[1;32m      5\u001b[0m \u001b[0;34m\u001b[0m\u001b[0m\n",
            "\u001b[0;31mValueError\u001b[0m: Base and height must be non-negative"
          ]
        }
      ],
      "source": [
        "def triangle_area(base, height):\n",
        "    if base < 0 or height < 0:\n",
        "        raise ValueError(\"Base and height must be non-negative\")\n",
        "    return 0.5 * base * height\n",
        "\n",
        "\n",
        "triangle_area(-1, 2)"
      ]
    },
    {
      "cell_type": "code",
      "source": [
        "def triangle_area(base, height):\n",
        "    try:\n",
        "        if base < 0 or height < 0:\n",
        "            raise ValueError(\"Base and height must be non-negative\")\n",
        "        return 0.5 * base * height\n",
        "    except ValueError as e_message:\n",
        "        print(f\"Error, triangle_area {e_message}, Try a different non-negative value\")\n",
        "    except Exception as e:\n",
        "        print(f\"Error, triangle_area new error {e}\")\n",
        "\n",
        "\n",
        "triangle_area(1, 2)"
      ],
      "metadata": {
        "id": "8kU0rC_cwR__",
        "colab": {
          "base_uri": "https://localhost:8080/"
        },
        "outputId": "927b8fbc-295d-4766-a9aa-fba35888ac14"
      },
      "execution_count": null,
      "outputs": [
        {
          "output_type": "execute_result",
          "data": {
            "text/plain": [
              "1.0"
            ]
          },
          "metadata": {},
          "execution_count": 72
        }
      ]
    },
    {
      "cell_type": "code",
      "source": [
        "triangle_area(-1, 2)"
      ],
      "metadata": {
        "id": "XzExk7sk66_V",
        "colab": {
          "base_uri": "https://localhost:8080/"
        },
        "outputId": "145f871c-5d2e-4f7f-8879-d035deb4bdc3"
      },
      "execution_count": null,
      "outputs": [
        {
          "output_type": "stream",
          "name": "stdout",
          "text": [
            "Error, triangle_area Base and height must be non-negative, Try a different non-negative value\n"
          ]
        }
      ]
    },
    {
      "cell_type": "code",
      "source": [
        "triangle_area(\"string\", 2)"
      ],
      "metadata": {
        "id": "9mxBcN5jWEwz",
        "colab": {
          "base_uri": "https://localhost:8080/"
        },
        "outputId": "c03e3c36-04a3-479d-c741-f59b97d03379"
      },
      "execution_count": null,
      "outputs": [
        {
          "output_type": "stream",
          "name": "stdout",
          "text": [
            "Error, triangle_area new error '<' not supported between instances of 'str' and 'int'\n"
          ]
        }
      ]
    },
    {
      "cell_type": "code",
      "source": [
        "# add type hint @mypy\n",
        "# int, str, dict\n",
        "def triangle_area(base: int, height: int):\n",
        "    try:\n",
        "        if base < 0 or height < 0:\n",
        "            raise ValueError(\"Base and height must be non-negative\")\n",
        "        return 0.5 * base * height\n",
        "    except ValueError as error:\n",
        "        print(f\"Error, {error}, Try a different value\")\n",
        "    except Exception as e:\n",
        "        print(f\"Error, {e}\")\n",
        "\n",
        "\n",
        "triangle_area(1, 2)"
      ],
      "metadata": {
        "id": "FMH1PoNFId5c",
        "colab": {
          "base_uri": "https://localhost:8080/"
        },
        "outputId": "c8d7f173-6f5e-424d-e37d-4d238d230c0e"
      },
      "execution_count": null,
      "outputs": [
        {
          "output_type": "execute_result",
          "data": {
            "text/plain": [
              "1.0"
            ]
          },
          "metadata": {},
          "execution_count": 75
        }
      ]
    },
    {
      "cell_type": "code",
      "source": [
        "triangle_area(1.0, 2) # implicit conversion"
      ],
      "metadata": {
        "id": "pppYZoje97M_",
        "colab": {
          "base_uri": "https://localhost:8080/"
        },
        "outputId": "92a45b06-1239-4b05-cedf-230524834338"
      },
      "execution_count": null,
      "outputs": [
        {
          "output_type": "execute_result",
          "data": {
            "text/plain": [
              "1.0"
            ]
          },
          "metadata": {},
          "execution_count": 76
        }
      ]
    },
    {
      "cell_type": "code",
      "source": [
        "triangle_area(\"1.0\", 2)"
      ],
      "metadata": {
        "colab": {
          "base_uri": "https://localhost:8080/"
        },
        "id": "SYQw2xUz6OsT",
        "outputId": "b99c3c56-8bf6-4061-ce02-64b63785c2d8"
      },
      "execution_count": null,
      "outputs": [
        {
          "output_type": "stream",
          "name": "stdout",
          "text": [
            "Error, '<' not supported between instances of 'str' and 'int'\n"
          ]
        }
      ]
    },
    {
      "cell_type": "code",
      "source": [
        "?triangle_area"
      ],
      "metadata": {
        "id": "Pj5amrWV7GrF"
      },
      "execution_count": null,
      "outputs": []
    },
    {
      "cell_type": "code",
      "source": [
        "# Python 3.7\n",
        "# Old school code\n",
        "# from typing import Union\n",
        "# Union[int, float]\n",
        "\n",
        "def triangle_area(base: int | float, height: int | float) -> float:\n",
        "    try:\n",
        "        if base < 0 or height < 0:\n",
        "            raise ValueError(\"Base and height must be non-negative\")\n",
        "        return 0.5 * base * height\n",
        "    except ValueError as error:\n",
        "        print(f\"Error, {error}, Try a different value\")\n",
        "    except Exception as e:\n",
        "        print(f\"Error, {e}\")\n",
        "\n",
        "\n",
        "triangle_area(1, 2)"
      ],
      "metadata": {
        "id": "dl3PTPsN-uRL",
        "colab": {
          "base_uri": "https://localhost:8080/"
        },
        "outputId": "0b1533d9-1c2c-4532-af59-55827b1cb2d5"
      },
      "execution_count": null,
      "outputs": [
        {
          "output_type": "execute_result",
          "data": {
            "text/plain": [
              "1.0"
            ]
          },
          "metadata": {},
          "execution_count": 80
        }
      ]
    },
    {
      "cell_type": "code",
      "source": [
        "?triangle_area"
      ],
      "metadata": {
        "id": "VUHEQgVwQw3g"
      },
      "execution_count": null,
      "outputs": []
    },
    {
      "cell_type": "code",
      "source": [
        "# Docstring\n",
        "def triangle_area(base: int | float, height: int | float) -> float:\n",
        "    \"\"\"Triangle_area is a function that calculate the area of an triangle shape\n",
        "\n",
        "    Input:\n",
        "      base: Union[int, float]\n",
        "        non-negative numeric input\n",
        "      height: Union[int, float]\n",
        "        non-negative numeric input\n",
        "    Output:\n",
        "      area: float\n",
        "         1/2 * base * height\n",
        "    \"\"\"\n",
        "    try:\n",
        "        if base < 0 or height < 0:\n",
        "            raise ValueError(\"Base and height must be non-negative\")\n",
        "        return 0.5 * base * height\n",
        "    except ValueError as e:\n",
        "        print(f\"Error, {e}, Try a different value\")\n",
        "    except Exception as e:\n",
        "        print(f\"Error, {e}\")\n",
        "\n",
        "\n",
        "triangle_area(\"string\", 2)"
      ],
      "metadata": {
        "id": "5OYbDlfbI4xE",
        "colab": {
          "base_uri": "https://localhost:8080/"
        },
        "outputId": "6d754fce-de46-4dd3-e50a-3863276b7f69"
      },
      "execution_count": null,
      "outputs": [
        {
          "output_type": "stream",
          "name": "stdout",
          "text": [
            "Error, '<' not supported between instances of 'str' and 'int'\n"
          ]
        }
      ]
    },
    {
      "cell_type": "code",
      "source": [
        "?triangle_area"
      ],
      "metadata": {
        "id": "S8C3BFcKQfl4"
      },
      "execution_count": null,
      "outputs": []
    },
    {
      "cell_type": "code",
      "source": [
        "help(triangle_area)"
      ],
      "metadata": {
        "colab": {
          "base_uri": "https://localhost:8080/"
        },
        "id": "RYaFBz2B6zho",
        "outputId": "826addfd-3cfa-44af-fc93-dac5eb68c92d"
      },
      "execution_count": null,
      "outputs": [
        {
          "output_type": "stream",
          "name": "stdout",
          "text": [
            "Help on function triangle_area in module __main__:\n",
            "\n",
            "triangle_area(base: int | float, height: int | float) -> float\n",
            "    Triangle_area is a function that calculate the area of an triangle shape\n",
            "    \n",
            "    Input:\n",
            "      base: Union[int, float]\n",
            "        non-negative numeric input\n",
            "      height: Union[int, float]\n",
            "        non-negative numeric input\n",
            "    Output:\n",
            "      area: float\n",
            "         1/2 * base * height\n",
            "\n"
          ]
        }
      ]
    },
    {
      "cell_type": "markdown",
      "source": [
        "(Add-on: )\n",
        "1. Function can have multiple outputs\n",
        "2. Function input can also be a function\n",
        "3. Function input can have default values"
      ],
      "metadata": {
        "id": "OJAerURiINzY"
      }
    },
    {
      "cell_type": "code",
      "execution_count": null,
      "metadata": {
        "id": "XeY2DXh-cbIA",
        "colab": {
          "base_uri": "https://localhost:8080/"
        },
        "outputId": "2f50c6f8-bacc-4960-8261-49df06879e82"
      },
      "outputs": [
        {
          "output_type": "execute_result",
          "data": {
            "text/plain": [
              "(1, 2)"
            ]
          },
          "metadata": {},
          "execution_count": 85
        }
      ],
      "source": [
        "# return multiple outputs\n",
        "def simple(a, b):\n",
        "    return a, b\n",
        "\n",
        "\n",
        "simple(1, 2)"
      ]
    },
    {
      "cell_type": "code",
      "source": [
        "x, y = simple(1, 2)\n",
        "print(x)\n",
        "print(y)"
      ],
      "metadata": {
        "id": "qGdukeJfHBSp",
        "colab": {
          "base_uri": "https://localhost:8080/"
        },
        "outputId": "dfe6be36-f5c5-49e3-9750-61f5da86b643"
      },
      "execution_count": null,
      "outputs": [
        {
          "output_type": "stream",
          "name": "stdout",
          "text": [
            "1\n",
            "2\n"
          ]
        }
      ]
    },
    {
      "cell_type": "code",
      "execution_count": null,
      "metadata": {
        "id": "PJTo39V0cbIA",
        "colab": {
          "base_uri": "https://localhost:8080/"
        },
        "outputId": "b7e38bec-09cd-4f17-f1a6-a5d997396f65"
      },
      "outputs": [
        {
          "output_type": "execute_result",
          "data": {
            "text/plain": [
              "7"
            ]
          },
          "metadata": {},
          "execution_count": 87
        }
      ],
      "source": [
        "# everything in python is an object, and can be passed into a function\n",
        "def f(x):\n",
        "    return x + 2\n",
        "\n",
        "\n",
        "def twice(g, x):\n",
        "    return g(g(x))\n",
        "\n",
        "\n",
        "twice(f, 3)  # f(f(2)) = (3 + 2) + 2"
      ]
    },
    {
      "cell_type": "code",
      "execution_count": null,
      "metadata": {
        "id": "JPLXUkxccbIA",
        "colab": {
          "base_uri": "https://localhost:8080/"
        },
        "outputId": "f0fa9d69-7e76-4f2e-f6ad-a59ddf6befb1"
      },
      "outputs": [
        {
          "output_type": "execute_result",
          "data": {
            "text/plain": [
              "11"
            ]
          },
          "metadata": {},
          "execution_count": 88
        }
      ],
      "source": [
        "def n_apply(f, x, n):\n",
        "    \"\"\"applies f to x n times\"\"\"\n",
        "    for _ in range(n):  # _ is dummy variable in iteration\n",
        "        x = f(x)\n",
        "    return x\n",
        "\n",
        "\n",
        "n_apply(f, 1, 5)  # 1 + 2*5"
      ]
    },
    {
      "cell_type": "code",
      "execution_count": null,
      "metadata": {
        "id": "kY80quZccbIA"
      },
      "outputs": [],
      "source": [
        "# Function input can have default values\n",
        "def h(a, b, x=3, y=2):\n",
        "    return a * x + b * y"
      ]
    },
    {
      "cell_type": "code",
      "source": [
        "h(1, 1) # equivalent to h(1,1,3,2)"
      ],
      "metadata": {
        "id": "vceJ2X7p_M4X",
        "colab": {
          "base_uri": "https://localhost:8080/"
        },
        "outputId": "bf0c9f58-aaac-44f1-f964-cf4b6c598a61"
      },
      "execution_count": null,
      "outputs": [
        {
          "output_type": "execute_result",
          "data": {
            "text/plain": [
              "5"
            ]
          },
          "metadata": {},
          "execution_count": 90
        }
      ]
    },
    {
      "cell_type": "code",
      "source": [
        "h(1,1,3) # equivalent to h(1,1,3,2)"
      ],
      "metadata": {
        "id": "2Ezqb_pU_RSM",
        "colab": {
          "base_uri": "https://localhost:8080/"
        },
        "outputId": "301e9226-de84-44a1-af3a-56ca0bcfc469"
      },
      "execution_count": null,
      "outputs": [
        {
          "output_type": "execute_result",
          "data": {
            "text/plain": [
              "5"
            ]
          },
          "metadata": {},
          "execution_count": 91
        }
      ]
    },
    {
      "cell_type": "code",
      "execution_count": null,
      "metadata": {
        "id": "LtWd0s1PcbIB",
        "colab": {
          "base_uri": "https://localhost:8080/"
        },
        "outputId": "c23641ac-0208-4e7c-8c56-1296a3d5dfbb"
      },
      "outputs": [
        {
          "output_type": "execute_result",
          "data": {
            "text/plain": [
              "6"
            ]
          },
          "metadata": {},
          "execution_count": 92
        }
      ],
      "source": [
        "h(1, 1, 3, 3)  # choose not to use the default value"
      ]
    },
    {
      "cell_type": "code",
      "source": [
        "h(1, 1, y =3) # use default value x but customize y"
      ],
      "metadata": {
        "id": "M1EvfpRa_fNl",
        "colab": {
          "base_uri": "https://localhost:8080/"
        },
        "outputId": "3a824401-10c9-404f-a08d-42e571565e19"
      },
      "execution_count": null,
      "outputs": [
        {
          "output_type": "execute_result",
          "data": {
            "text/plain": [
              "6"
            ]
          },
          "metadata": {},
          "execution_count": 95
        }
      ]
    },
    {
      "cell_type": "code",
      "source": [
        "h(1, 1, x=3, 3) # Always use a positional argument (3) before a keyword argument (x=3)"
      ],
      "metadata": {
        "id": "tdV-Kmkk_nzJ",
        "colab": {
          "base_uri": "https://localhost:8080/",
          "height": 106
        },
        "outputId": "5e1da2e7-8161-4c65-ae29-383c03afcb2a"
      },
      "execution_count": null,
      "outputs": [
        {
          "output_type": "error",
          "ename": "SyntaxError",
          "evalue": "positional argument follows keyword argument (<ipython-input-99-b56b4dcdee10>, line 1)",
          "traceback": [
            "\u001b[0;36m  File \u001b[0;32m\"<ipython-input-99-b56b4dcdee10>\"\u001b[0;36m, line \u001b[0;32m1\u001b[0m\n\u001b[0;31m    h(1, 1, x=3, 3) # Always use a positional argument (3) before a keyword argument (x=3)\u001b[0m\n\u001b[0m                  ^\u001b[0m\n\u001b[0;31mSyntaxError\u001b[0m\u001b[0;31m:\u001b[0m positional argument follows keyword argument\n"
          ]
        }
      ]
    },
    {
      "cell_type": "markdown",
      "metadata": {
        "id": "QDqLQrCRcbIC"
      },
      "source": [
        "# Exercise 1\n",
        "\n",
        "(10 minutes)\n",
        "\n",
        "1. Print every power of 2 less than 10,000\n",
        "2. Write a function that takes two inputs, $a$ and $b$ and returns the value of $a+2b$\n",
        "3. Write a function takes a number $n$ as input, and prints all [Fibonacci numbers](https://en.wikipedia.org/wiki/Fibonacci_number) less than $n$"
      ]
    },
    {
      "cell_type": "code",
      "execution_count": null,
      "metadata": {
        "id": "eRDZk_LRcbIC"
      },
      "outputs": [],
      "source": [
        "# YOUR CODE HERE\n"
      ]
    },
    {
      "cell_type": "markdown",
      "metadata": {
        "id": "I2b0BxBScbIC"
      },
      "source": [
        "# Lists\n",
        "\n",
        "A list in Python is an ordered (or indexed) collection of objects"
      ]
    },
    {
      "cell_type": "code",
      "execution_count": null,
      "metadata": {
        "id": "rKH7rKi4cbID",
        "colab": {
          "base_uri": "https://localhost:8080/",
          "height": 53
        },
        "outputId": "a5533688-4aa8-4e9c-d2ed-60aa6c0c3f60"
      },
      "outputs": [
        {
          "output_type": "stream",
          "name": "stdout",
          "text": [
            "['x', 1, 3.5]\n"
          ]
        },
        {
          "output_type": "execute_result",
          "data": {
            "text/plain": [
              "'x'"
            ],
            "application/vnd.google.colaboratory.intrinsic+json": {
              "type": "string"
            }
          },
          "metadata": {},
          "execution_count": 3
        }
      ],
      "source": [
        "# heterogeneous types\n",
        "a = [\"x\", 1, 3.5]\n",
        "print(a)\n",
        "a[0]"
      ]
    },
    {
      "cell_type": "markdown",
      "metadata": {
        "id": "4e3B3K73cbID"
      },
      "source": [
        "You can iterate over lists in a very natural way"
      ]
    },
    {
      "cell_type": "code",
      "execution_count": null,
      "metadata": {
        "id": "_iDpGx8XcbID",
        "colab": {
          "base_uri": "https://localhost:8080/"
        },
        "outputId": "1a3ddab3-2d42-4b5a-c3f8-0ace26ad9d4d"
      },
      "outputs": [
        {
          "output_type": "stream",
          "name": "stdout",
          "text": [
            "x\n",
            "1\n",
            "3.5\n"
          ]
        }
      ],
      "source": [
        "for word in a:\n",
        "    print(word)"
      ]
    },
    {
      "cell_type": "markdown",
      "metadata": {
        "id": "Q-4BiQMlcbID"
      },
      "source": [
        "Python indexing starts at 0."
      ]
    },
    {
      "cell_type": "code",
      "execution_count": null,
      "metadata": {
        "id": "nzyLV3cfcbID",
        "colab": {
          "base_uri": "https://localhost:8080/"
        },
        "outputId": "987c6235-70ac-48df-8fe9-e568b41317dd"
      },
      "outputs": [
        {
          "output_type": "execute_result",
          "data": {
            "text/plain": [
              "['x', 'overwritten', 3.5]"
            ]
          },
          "metadata": {},
          "execution_count": 5
        }
      ],
      "source": [
        "# mutable\n",
        "a[1] = \"overwritten\"\n",
        "a"
      ]
    },
    {
      "cell_type": "code",
      "execution_count": null,
      "metadata": {
        "id": "UzEMwS-HcbID",
        "colab": {
          "base_uri": "https://localhost:8080/"
        },
        "outputId": "78215340-0084-4156-a082-8fd1a07db64d"
      },
      "outputs": [
        {
          "output_type": "stream",
          "name": "stdout",
          "text": [
            "[5, [1, 2, 2.1]]\n"
          ]
        }
      ],
      "source": [
        "# can even put functions and other lists inside of lists!\n",
        "def f(x):\n",
        "    return x + 1\n",
        "\n",
        "\n",
        "b = [f(4), [1, 2, 2.1]]\n",
        "print(b)"
      ]
    },
    {
      "cell_type": "markdown",
      "metadata": {
        "id": "hIHhKPrwcbIE"
      },
      "source": [
        "You can `append` method to `lists` class using `.append()` after a object, and do other operations, such as `pop()`, `insert()`, etc."
      ]
    },
    {
      "cell_type": "markdown",
      "metadata": {
        "id": "TvKPLJkdcbIF"
      },
      "source": [
        "Python terminology:\n",
        "* a list is a \"class\"\n",
        "* the variable `a` is an object, or instance of the class\n",
        "* `append()` is a method"
      ]
    },
    {
      "cell_type": "code",
      "source": [
        "dir(a) # lists all the attributes and methods associated with the object a"
      ],
      "metadata": {
        "id": "l0u0qhZYaz4d",
        "colab": {
          "base_uri": "https://localhost:8080/"
        },
        "outputId": "edef5f15-b27d-4b80-f3bc-d188d45d6ee8"
      },
      "execution_count": null,
      "outputs": [
        {
          "output_type": "execute_result",
          "data": {
            "text/plain": [
              "['__add__',\n",
              " '__class__',\n",
              " '__class_getitem__',\n",
              " '__contains__',\n",
              " '__delattr__',\n",
              " '__delitem__',\n",
              " '__dir__',\n",
              " '__doc__',\n",
              " '__eq__',\n",
              " '__format__',\n",
              " '__ge__',\n",
              " '__getattribute__',\n",
              " '__getitem__',\n",
              " '__getstate__',\n",
              " '__gt__',\n",
              " '__hash__',\n",
              " '__iadd__',\n",
              " '__imul__',\n",
              " '__init__',\n",
              " '__init_subclass__',\n",
              " '__iter__',\n",
              " '__le__',\n",
              " '__len__',\n",
              " '__lt__',\n",
              " '__mul__',\n",
              " '__ne__',\n",
              " '__new__',\n",
              " '__reduce__',\n",
              " '__reduce_ex__',\n",
              " '__repr__',\n",
              " '__reversed__',\n",
              " '__rmul__',\n",
              " '__setattr__',\n",
              " '__setitem__',\n",
              " '__sizeof__',\n",
              " '__str__',\n",
              " '__subclasshook__',\n",
              " 'append',\n",
              " 'clear',\n",
              " 'copy',\n",
              " 'count',\n",
              " 'extend',\n",
              " 'index',\n",
              " 'insert',\n",
              " 'pop',\n",
              " 'remove',\n",
              " 'reverse',\n",
              " 'sort']"
            ]
          },
          "metadata": {},
          "execution_count": 7
        }
      ]
    },
    {
      "cell_type": "code",
      "source": [
        "?a.append"
      ],
      "metadata": {
        "id": "tMnL2rK5p979"
      },
      "execution_count": null,
      "outputs": []
    },
    {
      "cell_type": "code",
      "execution_count": null,
      "metadata": {
        "id": "YpybvVQLcbIE",
        "colab": {
          "base_uri": "https://localhost:8080/"
        },
        "outputId": "55498863-5b5b-414d-a2d4-3ba05c57fbee"
      },
      "outputs": [
        {
          "output_type": "stream",
          "name": "stdout",
          "text": [
            "[0]\n",
            "[0, 1]\n",
            "[0, 1, 2]\n",
            "[0, 1, 2, 3]\n",
            "[0, 1, 2, 3, 4]\n",
            "[0, 1, 2, 3, 4, 5]\n",
            "[0, 1, 2, 3, 4, 5, 6]\n",
            "[0, 1, 2, 3, 4, 5, 6, 7]\n",
            "[0, 1, 2, 3, 4, 5, 6, 7, 8]\n",
            "[0, 1, 2, 3, 4, 5, 6, 7, 8, 9]\n"
          ]
        }
      ],
      "source": [
        "a = [] # a = list()\n",
        "for i in range(10):\n",
        "    a.append(i)\n",
        "    print(a)\n"
      ]
    },
    {
      "cell_type": "code",
      "execution_count": null,
      "metadata": {
        "id": "ZvbESvwscbIE",
        "colab": {
          "base_uri": "https://localhost:8080/"
        },
        "outputId": "affc1e1f-7909-412f-a0cc-0126d8a82b4f"
      },
      "outputs": [
        {
          "output_type": "stream",
          "name": "stdout",
          "text": [
            "Removed 9, a is now [0, 1, 2, 3, 4, 5, 6, 7, 8]\n",
            "Removed 8, a is now [0, 1, 2, 3, 4, 5, 6, 7]\n",
            "Removed 7, a is now [0, 1, 2, 3, 4, 5, 6]\n",
            "Removed 6, a is now [0, 1, 2, 3, 4, 5]\n",
            "Removed 5, a is now [0, 1, 2, 3, 4]\n",
            "Removed 4, a is now [0, 1, 2, 3]\n",
            "Removed 3, a is now [0, 1, 2]\n",
            "Removed 2, a is now [0, 1]\n",
            "Removed 1, a is now [0]\n",
            "Removed 0, a is now []\n"
          ]
        }
      ],
      "source": [
        "while len(a) > 0:\n",
        "    elt = a.pop()\n",
        "    print(f\"Removed {elt}, a is now {a}\")"
      ]
    },
    {
      "cell_type": "markdown",
      "source": [
        " (Add-on):\n",
        "1. How to insert an element at a specific index of list\n",
        "2. How to append all element in a list into another list"
      ],
      "metadata": {
        "id": "iQZY_rBhTZxC"
      }
    },
    {
      "cell_type": "code",
      "execution_count": null,
      "metadata": {
        "id": "VHJ7S5EAcbIE",
        "colab": {
          "base_uri": "https://localhost:8080/"
        },
        "outputId": "98cb8754-0eef-47b4-d199-d3ccf6f0c6ee"
      },
      "outputs": [
        {
          "output_type": "stream",
          "name": "stdout",
          "text": [
            "[1, 'new value', 2, 3]\n"
          ]
        }
      ],
      "source": [
        "# Insert a value at a specific index\n",
        "a = [1, 2, 3]\n",
        "a.insert(1, \"new value\")\n",
        "print(a)"
      ]
    },
    {
      "cell_type": "code",
      "source": [
        "a = [1, 2, 3]\n",
        "b = [\"x\", \"y\"]\n",
        "a.append(b)\n",
        "a"
      ],
      "metadata": {
        "id": "6GbyCTAnxBYX",
        "colab": {
          "base_uri": "https://localhost:8080/"
        },
        "outputId": "e75bf0d9-9d4a-4a2f-f6ac-aab1ca820ee4"
      },
      "execution_count": null,
      "outputs": [
        {
          "output_type": "execute_result",
          "data": {
            "text/plain": [
              "[1, 2, 3, ['x', 'y']]"
            ]
          },
          "metadata": {},
          "execution_count": 12
        }
      ]
    },
    {
      "cell_type": "code",
      "execution_count": null,
      "metadata": {
        "id": "ijH42byecbIE",
        "colab": {
          "base_uri": "https://localhost:8080/"
        },
        "outputId": "ad119b66-ef2d-421c-8e2f-8b39552f5432"
      },
      "outputs": [
        {
          "output_type": "stream",
          "name": "stdout",
          "text": [
            "[1, 2, 3, 'x', 'y']\n"
          ]
        }
      ],
      "source": [
        "# Append all element inside a list into another list\n",
        "a = [1, 2, 3]\n",
        "b = [\"x\", \"y\"]\n",
        "a.extend(b)  # same as a+b\n",
        "print(a)"
      ]
    },
    {
      "cell_type": "code",
      "execution_count": null,
      "metadata": {
        "id": "smAIZHNycbIE",
        "colab": {
          "base_uri": "https://localhost:8080/"
        },
        "outputId": "d86cc4ec-b07b-4ccc-ed3b-88258aef9f56"
      },
      "outputs": [
        {
          "output_type": "execute_result",
          "data": {
            "text/plain": [
              "[1, 2, 3, 'x', 'y']"
            ]
          },
          "metadata": {},
          "execution_count": 14
        }
      ],
      "source": [
        "a = [1, 2, 3]\n",
        "b = [\"x\", \"y\"]\n",
        "a + b\n",
        "# looks like string concatenation? We are going to talk more in 2nd lecture"
      ]
    },
    {
      "cell_type": "markdown",
      "metadata": {
        "id": "la9LiI30cbIF"
      },
      "source": [
        "Lists in python are only implicitly collections of the objects that constitute them. Assigning statements do not copy objects and can lead to unexpected results:"
      ]
    },
    {
      "cell_type": "code",
      "execution_count": null,
      "metadata": {
        "id": "1OZGc_vWcbIF",
        "colab": {
          "base_uri": "https://localhost:8080/"
        },
        "outputId": "218a19db-f75d-46d1-9ad9-3ed945ef704f"
      },
      "outputs": [
        {
          "output_type": "stream",
          "name": "stdout",
          "text": [
            "before edit:\n",
            "original a:, [1, 2, 3]\n",
            "original b:, [1, 2, 3]\n",
            "\n",
            "after edit:\n",
            "a:, [1, 2, 3]\n",
            "b:, ['edited', 2, 3]\n"
          ]
        }
      ],
      "source": [
        "a = [1, 2, 3]\n",
        "b = a.copy()  # shallow copy\n",
        "# b = a # this is assignment\n",
        "print(\"before edit:\")\n",
        "print(f\"original a:, {a}\")\n",
        "print(f\"original b:, {b}\\n\")\n",
        "b[0] = \"edited\"\n",
        "print(\"after edit:\")\n",
        "print(f\"a:, {a}\")\n",
        "print(f\"b:, {b}\")"
      ]
    },
    {
      "cell_type": "code",
      "source": [
        "a = [1, 2, 3]\n",
        "b = a.copy()\n",
        "id(a) == id(b)"
      ],
      "metadata": {
        "id": "YIw6IxJH8psC",
        "colab": {
          "base_uri": "https://localhost:8080/"
        },
        "outputId": "eda04807-cd7b-4c72-9352-d2ab423e2688"
      },
      "execution_count": null,
      "outputs": [
        {
          "output_type": "execute_result",
          "data": {
            "text/plain": [
              "False"
            ]
          },
          "metadata": {},
          "execution_count": 16
        }
      ]
    },
    {
      "cell_type": "markdown",
      "metadata": {
        "id": "hBNPBcGJcbIF"
      },
      "source": [
        "A list only stores some pointers to locations in your computer's memory: when we wrote `b = a` Python created a new list `b` which shares its entries with `a`.\n",
        "\n",
        "The function `.copy()` will create a completely distinct copy with new objects.\n",
        "\n",
        "Question: Find out difference of shallow copy and deep copy on your own!"
      ]
    },
    {
      "cell_type": "markdown",
      "metadata": {
        "id": "s0oOi7ItcbIF"
      },
      "source": [
        "## List Comprehensions\n",
        "\n",
        "Python's list comprehensions let you create lists in a way that is reminiscent of set notation\n",
        "\n",
        "$$ S = \\{ x^2 ~\\mid~ 0 \\le x \\le 20, x\\mod 3 = 0\\}$$"
      ]
    },
    {
      "cell_type": "code",
      "source": [
        "S = []\n",
        "for x in range(21):\n",
        "    if x % 3 == 0:\n",
        "        S.append(x**2)\n",
        "S"
      ],
      "metadata": {
        "id": "rzUspLYBqy9l",
        "colab": {
          "base_uri": "https://localhost:8080/"
        },
        "outputId": "c38e3772-46d9-44f3-ccd7-a053ffcf3491"
      },
      "execution_count": null,
      "outputs": [
        {
          "output_type": "execute_result",
          "data": {
            "text/plain": [
              "[0, 9, 36, 81, 144, 225, 324]"
            ]
          },
          "metadata": {},
          "execution_count": 17
        }
      ]
    },
    {
      "cell_type": "markdown",
      "metadata": {
        "id": "X72grtjTcbIG"
      },
      "source": [
        "Syntax is generally\n",
        "```python3\n",
        "S = [<element> <for statement> <conditional>]\n",
        "```"
      ]
    },
    {
      "cell_type": "code",
      "execution_count": null,
      "metadata": {
        "id": "vzfGtb_vcbIG",
        "colab": {
          "base_uri": "https://localhost:8080/"
        },
        "outputId": "ac298bd4-7f77-4f02-dfc4-12109c8b2458"
      },
      "outputs": [
        {
          "output_type": "execute_result",
          "data": {
            "text/plain": [
              "[0, 9, 36, 81, 144, 225, 324]"
            ]
          },
          "metadata": {},
          "execution_count": 18
        }
      ],
      "source": [
        "S = [x**2 for x in range(21) if x % 3 == 0]\n",
        "S"
      ]
    },
    {
      "cell_type": "markdown",
      "source": [
        "(Self-study)Try yourself with nested for loop~"
      ],
      "metadata": {
        "id": "JZ88hKsZNeNY"
      }
    },
    {
      "cell_type": "code",
      "execution_count": null,
      "metadata": {
        "id": "lsWtnruKcbIG",
        "colab": {
          "base_uri": "https://localhost:8080/"
        },
        "outputId": "bbd0e770-260e-4b8a-ae36-8e1fc27f6e27"
      },
      "outputs": [
        {
          "output_type": "execute_result",
          "data": {
            "text/plain": [
              "[[0, 0, 0], [0, 1, 1], [1, 0, 1], [1, 1, 0]]"
            ]
          },
          "metadata": {},
          "execution_count": 19
        }
      ],
      "source": [
        "S = []\n",
        "for i in range(2):\n",
        "    for j in range(2):\n",
        "        for k in range(2):\n",
        "            if (i + j + k) % 2 == 0:\n",
        "                S += [[i, j, k]]\n",
        "\n",
        "S"
      ]
    },
    {
      "cell_type": "code",
      "execution_count": null,
      "metadata": {
        "id": "zj7PYS66cbIG",
        "colab": {
          "base_uri": "https://localhost:8080/"
        },
        "outputId": "841143de-deb0-4c02-c88e-8b012b951b41"
      },
      "outputs": [
        {
          "output_type": "execute_result",
          "data": {
            "text/plain": [
              "[[0, 0, 0], [0, 1, 1], [1, 0, 1], [1, 1, 0]]"
            ]
          },
          "metadata": {},
          "execution_count": 20
        }
      ],
      "source": [
        "# you aren't restricted to a single for loop\n",
        "S = [\n",
        "    [i, j, k]\n",
        "    for i in range(2)\n",
        "    for j in range(2)\n",
        "    for k in range(2)\n",
        "    if (i + j + k) % 2 == 0\n",
        "]\n",
        "S"
      ]
    },
    {
      "cell_type": "code",
      "source": [
        "# you aren't restricted to a single if statement : Ternary operation\n",
        "# s1 if c1 else c2\n",
        "[\"yes\" if v == 1 else \"no\" if v == 2 else \"idle\" for v in [1, 2, 3]]"
      ],
      "metadata": {
        "id": "VtUzdppOmSP5",
        "colab": {
          "base_uri": "https://localhost:8080/"
        },
        "outputId": "432e1f03-872a-4573-fb58-84ea03f6fb4c"
      },
      "execution_count": null,
      "outputs": [
        {
          "output_type": "execute_result",
          "data": {
            "text/plain": [
              "['yes', 'no', 'idle']"
            ]
          },
          "metadata": {},
          "execution_count": 21
        }
      ]
    },
    {
      "cell_type": "code",
      "source": [
        "dir(str)"
      ],
      "metadata": {
        "id": "L9I636Rlbv1l",
        "colab": {
          "base_uri": "https://localhost:8080/"
        },
        "outputId": "b9dbff2f-cbd7-4994-e535-cdbdab04b38d"
      },
      "execution_count": null,
      "outputs": [
        {
          "output_type": "execute_result",
          "data": {
            "text/plain": [
              "['__add__',\n",
              " '__class__',\n",
              " '__contains__',\n",
              " '__delattr__',\n",
              " '__dir__',\n",
              " '__doc__',\n",
              " '__eq__',\n",
              " '__format__',\n",
              " '__ge__',\n",
              " '__getattribute__',\n",
              " '__getitem__',\n",
              " '__getnewargs__',\n",
              " '__getstate__',\n",
              " '__gt__',\n",
              " '__hash__',\n",
              " '__init__',\n",
              " '__init_subclass__',\n",
              " '__iter__',\n",
              " '__le__',\n",
              " '__len__',\n",
              " '__lt__',\n",
              " '__mod__',\n",
              " '__mul__',\n",
              " '__ne__',\n",
              " '__new__',\n",
              " '__reduce__',\n",
              " '__reduce_ex__',\n",
              " '__repr__',\n",
              " '__rmod__',\n",
              " '__rmul__',\n",
              " '__setattr__',\n",
              " '__sizeof__',\n",
              " '__str__',\n",
              " '__subclasshook__',\n",
              " 'capitalize',\n",
              " 'casefold',\n",
              " 'center',\n",
              " 'count',\n",
              " 'encode',\n",
              " 'endswith',\n",
              " 'expandtabs',\n",
              " 'find',\n",
              " 'format',\n",
              " 'format_map',\n",
              " 'index',\n",
              " 'isalnum',\n",
              " 'isalpha',\n",
              " 'isascii',\n",
              " 'isdecimal',\n",
              " 'isdigit',\n",
              " 'isidentifier',\n",
              " 'islower',\n",
              " 'isnumeric',\n",
              " 'isprintable',\n",
              " 'isspace',\n",
              " 'istitle',\n",
              " 'isupper',\n",
              " 'join',\n",
              " 'ljust',\n",
              " 'lower',\n",
              " 'lstrip',\n",
              " 'maketrans',\n",
              " 'partition',\n",
              " 'removeprefix',\n",
              " 'removesuffix',\n",
              " 'replace',\n",
              " 'rfind',\n",
              " 'rindex',\n",
              " 'rjust',\n",
              " 'rpartition',\n",
              " 'rsplit',\n",
              " 'rstrip',\n",
              " 'split',\n",
              " 'splitlines',\n",
              " 'startswith',\n",
              " 'strip',\n",
              " 'swapcase',\n",
              " 'title',\n",
              " 'translate',\n",
              " 'upper',\n",
              " 'zfill']"
            ]
          },
          "metadata": {},
          "execution_count": 22
        }
      ]
    },
    {
      "cell_type": "markdown",
      "metadata": {
        "id": "82HHUl5EcbIG"
      },
      "source": [
        "# Other Collections\n",
        "\n",
        "We've seen the `list` class, which is ordered/indexed, and mutable.  There are other Python collections that you may find useful:\n",
        "* `tuple` which is ordered/indexed, and immutable\n",
        "* `set` which is unordered/unindexed, mutable, and doesn't allow for duplicate elements\n",
        "* `dict` (dictionary), paired, which is unordered/unindexed, and mutable, with no duplicate keys."
      ]
    },
    {
      "cell_type": "code",
      "execution_count": null,
      "metadata": {
        "id": "xAry3xBbcbIG",
        "colab": {
          "base_uri": "https://localhost:8080/",
          "height": 193
        },
        "outputId": "a027e848-4900-4923-800f-893b456173b0"
      },
      "outputs": [
        {
          "output_type": "stream",
          "name": "stdout",
          "text": [
            "(1, 2, 4)\n"
          ]
        },
        {
          "output_type": "error",
          "ename": "TypeError",
          "evalue": "'tuple' object does not support item assignment",
          "traceback": [
            "\u001b[0;31m---------------------------------------------------------------------------\u001b[0m",
            "\u001b[0;31mTypeError\u001b[0m                                 Traceback (most recent call last)",
            "\u001b[0;32m<ipython-input-23-2fba16f77fa3>\u001b[0m in \u001b[0;36m<cell line: 0>\u001b[0;34m()\u001b[0m\n\u001b[1;32m      1\u001b[0m \u001b[0ma_tuple\u001b[0m \u001b[0;34m=\u001b[0m \u001b[0;34m(\u001b[0m\u001b[0;36m1\u001b[0m\u001b[0;34m,\u001b[0m \u001b[0;36m2\u001b[0m\u001b[0;34m,\u001b[0m \u001b[0;36m4\u001b[0m\u001b[0;34m)\u001b[0m\u001b[0;34m\u001b[0m\u001b[0;34m\u001b[0m\u001b[0m\n\u001b[1;32m      2\u001b[0m \u001b[0mprint\u001b[0m\u001b[0;34m(\u001b[0m\u001b[0ma_tuple\u001b[0m\u001b[0;34m)\u001b[0m\u001b[0;34m\u001b[0m\u001b[0;34m\u001b[0m\u001b[0m\n\u001b[0;32m----> 3\u001b[0;31m \u001b[0ma_tuple\u001b[0m\u001b[0;34m[\u001b[0m\u001b[0;36m0\u001b[0m\u001b[0;34m]\u001b[0m \u001b[0;34m=\u001b[0m \u001b[0;36m1\u001b[0m\u001b[0;34m\u001b[0m\u001b[0;34m\u001b[0m\u001b[0m\n\u001b[0m",
            "\u001b[0;31mTypeError\u001b[0m: 'tuple' object does not support item assignment"
          ]
        }
      ],
      "source": [
        "a_tuple = (1, 2, 4)\n",
        "print(a_tuple)\n",
        "a_tuple[0] = 1"
      ]
    },
    {
      "cell_type": "code",
      "execution_count": null,
      "metadata": {
        "id": "KVAXxz6UcbIH",
        "colab": {
          "base_uri": "https://localhost:8080/",
          "height": 193
        },
        "outputId": "aa68bce4-8077-4b1d-ae6c-613c8327d720"
      },
      "outputs": [
        {
          "output_type": "stream",
          "name": "stdout",
          "text": [
            "{2, 3, 5}\n"
          ]
        },
        {
          "output_type": "error",
          "ename": "TypeError",
          "evalue": "'set' object is not subscriptable",
          "traceback": [
            "\u001b[0;31m---------------------------------------------------------------------------\u001b[0m",
            "\u001b[0;31mTypeError\u001b[0m                                 Traceback (most recent call last)",
            "\u001b[0;32m<ipython-input-24-481455a7fe96>\u001b[0m in \u001b[0;36m<cell line: 0>\u001b[0;34m()\u001b[0m\n\u001b[1;32m      1\u001b[0m \u001b[0ma_set\u001b[0m \u001b[0;34m=\u001b[0m \u001b[0;34m{\u001b[0m\u001b[0;36m5\u001b[0m\u001b[0;34m,\u001b[0m \u001b[0;36m3\u001b[0m\u001b[0;34m,\u001b[0m \u001b[0;36m2\u001b[0m\u001b[0;34m,\u001b[0m \u001b[0;36m5.0\u001b[0m\u001b[0;34m}\u001b[0m\u001b[0;34m\u001b[0m\u001b[0;34m\u001b[0m\u001b[0m\n\u001b[1;32m      2\u001b[0m \u001b[0mprint\u001b[0m\u001b[0;34m(\u001b[0m\u001b[0ma_set\u001b[0m\u001b[0;34m)\u001b[0m\u001b[0;34m\u001b[0m\u001b[0;34m\u001b[0m\u001b[0m\n\u001b[0;32m----> 3\u001b[0;31m \u001b[0mprint\u001b[0m\u001b[0;34m(\u001b[0m\u001b[0ma_set\u001b[0m\u001b[0;34m[\u001b[0m\u001b[0;36m0\u001b[0m\u001b[0;34m]\u001b[0m\u001b[0;34m)\u001b[0m\u001b[0;34m\u001b[0m\u001b[0;34m\u001b[0m\u001b[0m\n\u001b[0m",
            "\u001b[0;31mTypeError\u001b[0m: 'set' object is not subscriptable"
          ]
        }
      ],
      "source": [
        "a_set = {5, 3, 2, 5.0}\n",
        "print(a_set)\n",
        "print(a_set[0])"
      ]
    },
    {
      "cell_type": "code",
      "execution_count": null,
      "metadata": {
        "id": "F9b-2Y1YcbIH",
        "colab": {
          "base_uri": "https://localhost:8080/"
        },
        "outputId": "76ccd256-8c58-49be-829a-751a1e2c88af"
      },
      "outputs": [
        {
          "output_type": "stream",
          "name": "stdout",
          "text": [
            "After adding 6,   a_set:{2, 3, 5, 6}\n",
            "After removing 6, a_set:{2, 3, 5}\n"
          ]
        }
      ],
      "source": [
        "a_set.add(6)  # you can also add all element in a list by using .update()\n",
        "print(f\"After adding 6,   a_set:{a_set}\")\n",
        "a_set.remove(6)  # you can also add all element in a list by using minues operator\n",
        "print(f\"After removing 6, a_set:{a_set}\")"
      ]
    },
    {
      "cell_type": "code",
      "execution_count": null,
      "metadata": {
        "id": "8eqTIXOXcbIH",
        "colab": {
          "base_uri": "https://localhost:8080/"
        },
        "outputId": "9b3c2bc4-cead-441f-ab9e-9c5418e155aa"
      },
      "outputs": [
        {
          "output_type": "execute_result",
          "data": {
            "text/plain": [
              "{2: 12, 'key_2': 'str', 'key_3': [13, 'value']}"
            ]
          },
          "metadata": {},
          "execution_count": 26
        }
      ],
      "source": [
        "a_dict = {}  # {key0: value0, key1: value1}\n",
        "a_dict[2] = 12  # dict[key] = value\n",
        "a_dict[\"key_2\"] = \"str\"\n",
        "a_dict[\"key_3\"] = [13, \"value\"]\n",
        "a_dict"
      ]
    },
    {
      "cell_type": "code",
      "source": [
        "print(a_dict[2])\n",
        "print(a_dict.get(2))"
      ],
      "metadata": {
        "id": "VawfIljer7Td",
        "colab": {
          "base_uri": "https://localhost:8080/"
        },
        "outputId": "ac009148-7a7c-40c7-ff39-1390f0c4416e"
      },
      "execution_count": null,
      "outputs": [
        {
          "output_type": "stream",
          "name": "stdout",
          "text": [
            "12\n",
            "12\n"
          ]
        }
      ]
    },
    {
      "cell_type": "code",
      "execution_count": null,
      "metadata": {
        "id": "7E6KY3rmcbIH",
        "colab": {
          "base_uri": "https://localhost:8080/"
        },
        "outputId": "22706ae5-8d21-42f7-a96a-e815cab8fb93"
      },
      "outputs": [
        {
          "output_type": "execute_result",
          "data": {
            "text/plain": [
              "{2: 'new value', 'key_2': 28, 'key_3': [13, 'value']}"
            ]
          },
          "metadata": {},
          "execution_count": 28
        }
      ],
      "source": [
        "a_dict_copy = {2: \"new value\", \"key_2\": 28, \"key_3\": [13, \"value\"]}\n",
        "a_dict_copy"
      ]
    },
    {
      "cell_type": "markdown",
      "source": [
        "(Optional) More Advanced Collections in Python\n",
        "* [`OrderedDict`](https://docs.python.org/3/library/collections.html#ordereddict-objects) Dict ordered by keys\n",
        "* [`deque`](https://docs.python.org/3/library/collections.html#deque-objects): double-ended queue (generalization of stack and queue)\n",
        "* [`heapq`](https://docs.python.org/3/library/heapq.html) Priority Queue"
      ],
      "metadata": {
        "id": "DxnjXbSm0AO0"
      }
    },
    {
      "cell_type": "markdown",
      "metadata": {
        "id": "yPXV07ppcbIH"
      },
      "source": [
        "# Exercise 2\n",
        "\n",
        "**Lists**\n",
        "1. Create a list `['a', 'b', 'c']`\n",
        "2. use the `insert()` method to put the element `'d'` at index 1\n",
        "3. use the `remove()` method to delete the element `'b'` in the list\n",
        "\n",
        "**List comprehensions**\n",
        "1. What does the following list contain?\n",
        "```python\n",
        "X = [i for i in range(100)]\n",
        "```\n",
        "2. Interpret the following set as a list comprehension:\n",
        "$S_1 = \\{x\\in X \\mid x\\mod 5 = 2\\}$\n",
        "3. Intepret the following set as a list comprehension: $S_2 = \\{x \\in S_1 \\mid x \\text{ is even}\\}$\n",
        "4. generate the set of all tuples $(x,y)$ where $x\\in S_1$, $y\\in S_2$.\n",
        "\n",
        "**Other Collections**\n",
        "1. Try creating another type of collection\n",
        "2. try iterating over it."
      ]
    }
  ],
  "metadata": {
    "kernelspec": {
      "display_name": "Python 3",
      "language": "python",
      "name": "python3"
    },
    "language_info": {
      "codemirror_mode": {
        "name": "ipython",
        "version": 3
      },
      "file_extension": ".py",
      "mimetype": "text/x-python",
      "name": "python",
      "nbconvert_exporter": "python",
      "pygments_lexer": "ipython3",
      "version": "3.8.5"
    },
    "colab": {
      "provenance": [],
      "collapsed_sections": [
        "IB20Lo4pcbHr",
        "CyZW8H_CcbHu"
      ],
      "toc_visible": true
    }
  },
  "nbformat": 4,
  "nbformat_minor": 0
}